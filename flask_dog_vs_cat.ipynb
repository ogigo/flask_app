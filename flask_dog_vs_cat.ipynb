{
  "cells": [
    {
      "cell_type": "markdown",
      "metadata": {
        "id": "view-in-github",
        "colab_type": "text"
      },
      "source": [
        "<a href=\"https://colab.research.google.com/github/ogigo/flask_app/blob/main/flask_dog_vs_cat.ipynb\" target=\"_parent\"><img src=\"https://colab.research.google.com/assets/colab-badge.svg\" alt=\"Open In Colab\"/></a>"
      ]
    },
    {
      "cell_type": "code",
      "execution_count": 1,
      "metadata": {
        "id": "DcZoNJRcGn8f"
      },
      "outputs": [],
      "source": [
        "!pip install -q kaggle"
      ]
    },
    {
      "cell_type": "code",
      "execution_count": 2,
      "metadata": {
        "id": "YLqFmGdDGzmb"
      },
      "outputs": [],
      "source": [
        "!mkdir -p ~/.kaggle"
      ]
    },
    {
      "cell_type": "code",
      "execution_count": 3,
      "metadata": {
        "id": "KMrZOAXAGzjo"
      },
      "outputs": [],
      "source": [
        "api_token = {\"username\":\"kajolmaster\",\"key\":\"dbb23ceaca2a39397c3e92d83fda1034\"}\n",
        "\n",
        "import json\n",
        "\n",
        "with open('/root/.kaggle/kaggle.json', 'w') as file:json.dump(api_token, file)"
      ]
    },
    {
      "cell_type": "code",
      "execution_count": 4,
      "metadata": {
        "id": "Dyg2srZpGzgx"
      },
      "outputs": [],
      "source": [
        "!chmod 600 ~/.kaggle/kaggle.json"
      ]
    },
    {
      "cell_type": "code",
      "execution_count": 5,
      "metadata": {
        "colab": {
          "base_uri": "https://localhost:8080/"
        },
        "id": "vretcLlvG-4Y",
        "outputId": "34df5028-4aaf-466f-827b-7a9f2e468188"
      },
      "outputs": [
        {
          "output_type": "stream",
          "name": "stdout",
          "text": [
            "Downloading cats-and-dogs-image-classification.zip to /content\n",
            " 98% 63.0M/64.4M [00:02<00:00, 36.9MB/s]\n",
            "100% 64.4M/64.4M [00:02<00:00, 27.0MB/s]\n"
          ]
        }
      ],
      "source": [
        "!kaggle datasets download samuelcortinhas/cats-and-dogs-image-classification"
      ]
    },
    {
      "cell_type": "code",
      "execution_count": null,
      "metadata": {
        "id": "hpzumyhHHUvp"
      },
      "outputs": [],
      "source": [
        "!unzip cats-and-dogs-image-classification.zip"
      ]
    },
    {
      "cell_type": "code",
      "execution_count": 7,
      "metadata": {
        "id": "0zqjgVVeHYPZ"
      },
      "outputs": [],
      "source": [
        "import tensorflow as tf\n",
        "from tensorflow.keras.preprocessing.image import ImageDataGenerator\n",
        "from tensorflow.keras.preprocessing import image\n",
        "from tensorflow.keras.applications.inception_resnet_v2 import InceptionResNetV2,preprocess_input\n",
        "from tensorflow.keras.layers import Dense , Flatten\n",
        "from tensorflow.keras.models import Model\n",
        "from tensorflow.keras.optimizers import Adam\n",
        "\n",
        "import numpy as np\n",
        "import matplotlib.pyplot as plt\n",
        "import random\n",
        "from sklearn.metrics import confusion_matrix\n",
        "import seaborn as sns\n",
        "import os\n",
        "%matplotlib inline\n",
        "sns.set(style='darkgrid', font_scale=1.4)"
      ]
    },
    {
      "cell_type": "code",
      "execution_count": 8,
      "metadata": {
        "id": "nMO2s6ASWWqE"
      },
      "outputs": [],
      "source": [
        "train_image_dir=\"/content/train/\"\n",
        "test_image_dir=\"/content/test\""
      ]
    },
    {
      "cell_type": "code",
      "execution_count": 9,
      "metadata": {
        "id": "B8HhUl4XW-LM"
      },
      "outputs": [],
      "source": [
        "train_data_generator=ImageDataGenerator( validation_split=0.15,\n",
        "                                        rotation_range=15,\n",
        "                                        width_shift_range=0.1,\n",
        "                                        height_shift_range=0.1,\n",
        "                                        preprocessing_function=preprocess_input,\n",
        "                                        shear_range=0.1,\n",
        "                                        zoom_range=0.2,\n",
        "                                        horizontal_flip=True,\n",
        "                                        fill_mode='nearest')\n",
        "\n",
        "valid_data_generator=ImageDataGenerator(preprocessing_function=preprocess_input,validation_split=0.15)\n",
        "test_data_generator=ImageDataGenerator(preprocessing_function=preprocess_input)"
      ]
    },
    {
      "cell_type": "code",
      "execution_count": 10,
      "metadata": {
        "colab": {
          "base_uri": "https://localhost:8080/"
        },
        "id": "s3o2S2c3Yj0W",
        "outputId": "6ad12206-53c0-48ee-a04f-861040cb3b9b"
      },
      "outputs": [
        {
          "output_type": "stream",
          "name": "stdout",
          "text": [
            "Found 475 images belonging to 2 classes.\n",
            "Found 82 images belonging to 2 classes.\n",
            "Found 140 images belonging to 2 classes.\n",
            "Classes:['cats', 'dogs']\n"
          ]
        }
      ],
      "source": [
        "train_generator=train_data_generator.flow_from_directory(train_image_dir,\n",
        "                                                         target_size=(256,256),\n",
        "                                                         batch_size=32,\n",
        "                                                         shuffle=True,\n",
        "                                                         seed=42,\n",
        "                                                         class_mode=\"categorical\",\n",
        "                                                         subset=\"training\")\n",
        "\n",
        "valid_generator=valid_data_generator.flow_from_directory(train_image_dir,\n",
        "                                                         target_size=(256,256),\n",
        "                                                         batch_size=32,\n",
        "                                                         shuffle=False,\n",
        "                                                         seed=42,\n",
        "                                                         class_mode=\"categorical\",\n",
        "                                                         subset=\"validation\")\n",
        "\n",
        "test_generator=test_data_generator.flow_from_directory(test_image_dir,\n",
        "                                                         target_size=(256,256),\n",
        "                                                         batch_size=32,\n",
        "                                                         shuffle=False,\n",
        "                                                         seed=42,\n",
        "                                                         class_mode=\"categorical\")\n",
        "\n",
        "nb_train_samples = train_generator.samples\n",
        "nb_validation_samples = valid_generator.samples\n",
        "nb_test_samples = test_generator.samples\n",
        "classes = list(train_generator.class_indices.keys())\n",
        "print('Classes:'+str(classes))\n",
        "num_classes = len(classes)"
      ]
    },
    {
      "cell_type": "code",
      "execution_count": 11,
      "metadata": {
        "colab": {
          "base_uri": "https://localhost:8080/"
        },
        "id": "LHgi8DHVa2QW",
        "outputId": "ed511bb5-ee64-4e04-c79b-4daee027a2ff"
      },
      "outputs": [
        {
          "output_type": "stream",
          "name": "stdout",
          "text": [
            "Downloading data from https://storage.googleapis.com/tensorflow/keras-applications/inception_resnet_v2/inception_resnet_v2_weights_tf_dim_ordering_tf_kernels_notop.h5\n",
            "219055592/219055592 [==============================] - 7s 0us/step\n"
          ]
        }
      ],
      "source": [
        "base_model=InceptionResNetV2(include_top=False,\n",
        "                             weights=\"imagenet\",\n",
        "                             input_shape=(256,256,3))\n",
        "\n",
        "x=base_model.output\n",
        "x=Flatten()(x)\n",
        "x=Dense(100,activation=\"relu\")(x)\n",
        "prediction=Dense(num_classes,activation=\"softmax\",kernel_initializer=\"random_uniform\")(x)"
      ]
    },
    {
      "cell_type": "code",
      "execution_count": 12,
      "metadata": {
        "id": "eCth7iVYhf4_"
      },
      "outputs": [],
      "source": [
        "model=Model(inputs=base_model.input,outputs=prediction)\n",
        "\n",
        "for layer in base_model.layers:\n",
        "  layer.trainable=False"
      ]
    },
    {
      "cell_type": "code",
      "execution_count": 13,
      "metadata": {
        "id": "cXHMOY__iNcX"
      },
      "outputs": [],
      "source": [
        "model.compile(optimizer=Adam(),\n",
        "              loss=\"categorical_crossentropy\",\n",
        "              metrics=[\"accuracy\"])"
      ]
    },
    {
      "cell_type": "code",
      "execution_count": 14,
      "metadata": {
        "id": "H8TWquCyitlh"
      },
      "outputs": [],
      "source": [
        "# Save the best model\n",
        "save_checkpoint = tf.keras.callbacks.ModelCheckpoint(filepath='model.h5', monitor='val_loss', save_best_only=True, verbose=1)\n",
        "\n",
        "# Early stopping\n",
        "early_stopping = tf.keras.callbacks.EarlyStopping(monitor='val_loss', patience=5, verbose=True)"
      ]
    },
    {
      "cell_type": "code",
      "execution_count": 15,
      "metadata": {
        "colab": {
          "base_uri": "https://localhost:8080/"
        },
        "id": "xjFnNFLcjMKG",
        "outputId": "52472b25-c2c8-4a83-f52d-48b2a17e13d5"
      },
      "outputs": [
        {
          "output_type": "stream",
          "name": "stdout",
          "text": [
            "Epoch 1/5\n",
            "14/14 [==============================] - ETA: 0s - loss: 0.5441 - accuracy: 0.8736\n",
            "Epoch 1: val_loss improved from inf to 0.08766, saving model to model.h5\n",
            "14/14 [==============================] - 36s 1s/step - loss: 0.5441 - accuracy: 0.8736 - val_loss: 0.0877 - val_accuracy: 0.9688\n",
            "Epoch 2/5\n",
            "14/14 [==============================] - ETA: 0s - loss: 0.0877 - accuracy: 0.9707\n",
            "Epoch 2: val_loss improved from 0.08766 to 0.06216, saving model to model.h5\n",
            "14/14 [==============================] - 15s 1s/step - loss: 0.0877 - accuracy: 0.9707 - val_loss: 0.0622 - val_accuracy: 0.9844\n",
            "Epoch 3/5\n",
            "14/14 [==============================] - ETA: 0s - loss: 0.0344 - accuracy: 0.9865\n",
            "Epoch 3: val_loss did not improve from 0.06216\n",
            "14/14 [==============================] - 14s 953ms/step - loss: 0.0344 - accuracy: 0.9865 - val_loss: 0.0975 - val_accuracy: 0.9844\n",
            "Epoch 4/5\n",
            "14/14 [==============================] - ETA: 0s - loss: 0.0653 - accuracy: 0.9910\n",
            "Epoch 4: val_loss did not improve from 0.06216\n",
            "14/14 [==============================] - 13s 931ms/step - loss: 0.0653 - accuracy: 0.9910 - val_loss: 0.0777 - val_accuracy: 0.9688\n",
            "Epoch 5/5\n",
            "14/14 [==============================] - ETA: 0s - loss: 0.0196 - accuracy: 0.9910\n",
            "Epoch 5: val_loss did not improve from 0.06216\n",
            "14/14 [==============================] - 13s 921ms/step - loss: 0.0196 - accuracy: 0.9910 - val_loss: 0.1846 - val_accuracy: 0.9844\n"
          ]
        }
      ],
      "source": [
        "history = model.fit(\n",
        "        train_generator,\n",
        "        steps_per_epoch=nb_train_samples // 32,\n",
        "        epochs=5,\n",
        "        callbacks=[save_checkpoint,early_stopping],\n",
        "        validation_data=valid_generator,\n",
        "        verbose=True,\n",
        "        validation_steps=nb_validation_samples // 32)"
      ]
    },
    {
      "cell_type": "code",
      "execution_count": 16,
      "metadata": {
        "id": "KiGJqq0Djeq_"
      },
      "outputs": [],
      "source": [
        "history_dict=history.history\n",
        "loss_values=history_dict[\"loss\"]\n",
        "val_loss_values=history_dict[\"val_loss\"]"
      ]
    },
    {
      "cell_type": "code",
      "execution_count": 17,
      "metadata": {
        "colab": {
          "base_uri": "https://localhost:8080/",
          "height": 715
        },
        "id": "f88nHvo-mu4i",
        "outputId": "b53e80f4-2f13-42a9-ce20-a848716b06f0"
      },
      "outputs": [
        {
          "output_type": "display_data",
          "data": {
            "text/plain": [
              "<Figure size 720x720 with 2 Axes>"
            ],
            "image/png": "[encoded data removed]"
          },
          "metadata": {}
        }
      ],
      "source": [
        "epochs_x = range(1, len(loss_values) + 1)\n",
        "plt.figure(figsize=(10,10))\n",
        "plt.subplot(2,1,1)\n",
        "plt.plot(epochs_x, loss_values, 'b-o', label='Training loss')\n",
        "plt.plot(epochs_x, val_loss_values, 'r-o', label='Validation loss')\n",
        "plt.title('Training and validation Loss')\n",
        "plt.xlabel('Epochs')\n",
        "plt.ylabel('Loss')\n",
        "\n",
        "plt.subplot(2,1,2)\n",
        "acc_values = history_dict['accuracy']\n",
        "val_acc_values = history_dict['val_accuracy']\n",
        "plt.plot(epochs_x, acc_values, 'b-o', label='Training acc')\n",
        "plt.plot(epochs_x, val_acc_values, 'r-o', label='Validation acc')\n",
        "plt.title('Training and validation accuracy')\n",
        "plt.xlabel('Epochs')\n",
        "plt.ylabel('Acc')\n",
        "plt.legend()\n",
        "plt.tight_layout()\n",
        "plt.show()"
      ]
    },
    {
      "cell_type": "code",
      "execution_count": 18,
      "metadata": {
        "colab": {
          "base_uri": "https://localhost:8080/"
        },
        "id": "T7QrNY9fnSqX",
        "outputId": "9c6cf0a3-9e3a-4b3e-ecf6-7670d5d01099"
      },
      "outputs": [
        {
          "output_type": "stream",
          "name": "stdout",
          "text": [
            "Val loss: 0.14435678720474243\n",
            "Val accuracy: 0.9878048896789551\n"
          ]
        }
      ],
      "source": [
        "# Evaluate on validation dataset\n",
        "score = model.evaluate(valid_generator, verbose=False)\n",
        "print('Val loss:', score[0])\n",
        "print('Val accuracy:', score[1])"
      ]
    },
    {
      "cell_type": "code",
      "execution_count": 19,
      "metadata": {
        "colab": {
          "base_uri": "https://localhost:8080/"
        },
        "id": "I02b3M3kn6W6",
        "outputId": "e63ede70-878c-4376-f83c-feccae71f87f"
      },
      "outputs": [
        {
          "output_type": "stream",
          "name": "stdout",
          "text": [
            "Test loss: 0.19695815443992615\n",
            "Test accuracy: 0.949999988079071\n"
          ]
        }
      ],
      "source": [
        "# Evaluate on test dataset\n",
        "score = model.evaluate(test_generator, verbose=False)\n",
        "print('Test loss:', score[0])\n",
        "print('Test accuracy:', score[1])"
      ]
    },
    {
      "cell_type": "code",
      "execution_count": 20,
      "metadata": {
        "colab": {
          "base_uri": "https://localhost:8080/",
          "height": 441
        },
        "id": "9Jhhy-MEoB6o",
        "outputId": "e1fcc248-3052-430d-b78e-d126082682f3"
      },
      "outputs": [
        {
          "output_type": "stream",
          "name": "stdout",
          "text": [
            "5/5 [==============================] - 5s 417ms/step\n"
          ]
        },
        {
          "output_type": "display_data",
          "data": {
            "text/plain": [
              "<Figure size 576x432 with 2 Axes>"
            ],
            "image/png": "[encoded data removed]"
          },
          "metadata": {}
        }
      ],
      "source": [
        "# Confusion matrix\n",
        "y_pred = np.argmax(model.predict(test_generator), axis=1)\n",
        "cm = confusion_matrix(test_generator.classes, y_pred)\n",
        "\n",
        "# Heatmap\n",
        "plt.figure(figsize=(8,6))\n",
        "sns.heatmap(cm, annot=True, fmt='d', cbar=True, cmap='Blues',xticklabels=classes, yticklabels=classes)\n",
        "plt.xlabel('Predicted label')\n",
        "plt.ylabel('True label')\n",
        "plt.title('Confusion matrix')\n",
        "plt.show()"
      ]
    },
    {
      "cell_type": "code",
      "execution_count": 21,
      "metadata": {
        "id": "2cSONCDD2PsY"
      },
      "outputs": [],
      "source": [
        "import cv2\n",
        "img=cv2.imread(\"/content/test/dogs/dog_114.jpg\")\n",
        "img=cv2.resize(img,(256,256))\n",
        "img=np.resize(img,(1,256,256,3))"
      ]
    },
    {
      "cell_type": "code",
      "execution_count": 22,
      "metadata": {
        "id": "6mZ_lb8M7pPr"
      },
      "outputs": [],
      "source": [
        "def image_preprocess(image_file):\n",
        "  image=cv2.imread(image_file)\n",
        "  image=cv2.resize(image,(256,256))\n",
        "  image=np.resize(image,(1,256,256,3))\n",
        "  return image"
      ]
    },
    {
      "cell_type": "code",
      "execution_count": 23,
      "metadata": {
        "colab": {
          "base_uri": "https://localhost:8080/"
        },
        "id": "EDNYFP3EoKLw",
        "outputId": "ceffa6d8-3f61-4511-ca57-77300cebf96b"
      },
      "outputs": [
        {
          "output_type": "stream",
          "name": "stdout",
          "text": [
            "1/1 [==============================] - 4s 4s/step\n"
          ]
        }
      ],
      "source": [
        "pred=model.predict(img)\n",
        "pred_digit=np.argmax(pred,axis=1)"
      ]
    },
    {
      "cell_type": "code",
      "execution_count": 24,
      "metadata": {
        "colab": {
          "base_uri": "https://localhost:8080/"
        },
        "id": "kkYT8gnD1S8x",
        "outputId": "237fcd87-6aca-4677-a2d6-5704d2cddf68"
      },
      "outputs": [
        {
          "output_type": "execute_result",
          "data": {
            "text/plain": [
              "array([1])"
            ]
          },
          "metadata": {},
          "execution_count": 24
        }
      ],
      "source": [
        "pred_digit"
      ]
    },
    {
      "cell_type": "code",
      "execution_count": 25,
      "metadata": {
        "colab": {
          "base_uri": "https://localhost:8080/"
        },
        "id": "zkAk3OcK47mK",
        "outputId": "20f1b645-fe62-43e7-baaa-5824f728dc19"
      },
      "outputs": [
        {
          "output_type": "stream",
          "name": "stdout",
          "text": [
            "Looking in indexes: https://pypi.org/simple, https://us-python.pkg.dev/colab-wheels/public/simple/\n",
            "Collecting flask_ngrok\n",
            "  Downloading flask_ngrok-0.0.25-py3-none-any.whl (3.1 kB)\n",
            "Requirement already satisfied: requests in /usr/local/lib/python3.8/dist-packages (from flask_ngrok) (2.25.1)\n",
            "Requirement already satisfied: Flask>=0.8 in /usr/local/lib/python3.8/dist-packages (from flask_ngrok) (1.1.4)\n",
            "Requirement already satisfied: itsdangerous<2.0,>=0.24 in /usr/local/lib/python3.8/dist-packages (from Flask>=0.8->flask_ngrok) (1.1.0)\n",
            "Requirement already satisfied: Jinja2<3.0,>=2.10.1 in /usr/local/lib/python3.8/dist-packages (from Flask>=0.8->flask_ngrok) (2.11.3)\n",
            "Requirement already satisfied: Werkzeug<2.0,>=0.15 in /usr/local/lib/python3.8/dist-packages (from Flask>=0.8->flask_ngrok) (1.0.1)\n",
            "Requirement already satisfied: click<8.0,>=5.1 in /usr/local/lib/python3.8/dist-packages (from Flask>=0.8->flask_ngrok) (7.1.2)\n",
            "Requirement already satisfied: idna<3,>=2.5 in /usr/local/lib/python3.8/dist-packages (from requests->flask_ngrok) (2.10)\n",
            "Requirement already satisfied: certifi>=2017.4.17 in /usr/local/lib/python3.8/dist-packages (from requests->flask_ngrok) (2022.12.7)\n",
            "Requirement already satisfied: urllib3<1.27,>=1.21.1 in /usr/local/lib/python3.8/dist-packages (from requests->flask_ngrok) (1.24.3)\n",
            "Requirement already satisfied: chardet<5,>=3.0.2 in /usr/local/lib/python3.8/dist-packages (from requests->flask_ngrok) (4.0.0)\n",
            "Requirement already satisfied: MarkupSafe>=0.23 in /usr/local/lib/python3.8/dist-packages (from Jinja2<3.0,>=2.10.1->Flask>=0.8->flask_ngrok) (2.0.1)\n",
            "Installing collected packages: flask_ngrok\n",
            "Successfully installed flask_ngrok-0.0.25\n"
          ]
        }
      ],
      "source": [
        "!pip install flask_ngrok"
      ]
    },
    {
      "cell_type": "code",
      "execution_count": 26,
      "metadata": {
        "colab": {
          "base_uri": "https://localhost:8080/"
        },
        "id": "vOQcW5xh6pSr",
        "outputId": "1f570660-44a1-4845-fb78-9bec4e2e586a"
      },
      "outputs": [
        {
          "output_type": "stream",
          "name": "stdout",
          "text": [
            "Looking in indexes: https://pypi.org/simple, https://us-python.pkg.dev/colab-wheels/public/simple/\n",
            "Collecting pyngrok\n",
            "  Downloading pyngrok-5.2.1.tar.gz (761 kB)\n",
            "\u001b[2K     \u001b[90m━━━━━━━━━━━━━━━━━━━━━━━━━━━━━━━━━━━━━━\u001b[0m \u001b[32m761.3/761.3 KB\u001b[0m \u001b[31m23.9 MB/s\u001b[0m eta \u001b[36m0:00:00\u001b[0m\n",
            "\u001b[?25h  Preparing metadata (setup.py) ... \u001b[?25l\u001b[?25hdone\n",
            "Requirement already satisfied: PyYAML in /usr/local/lib/python3.8/dist-packages (from pyngrok) (6.0)\n",
            "Building wheels for collected packages: pyngrok\n",
            "  Building wheel for pyngrok (setup.py) ... \u001b[?25l\u001b[?25hdone\n",
            "  Created wheel for pyngrok: filename=pyngrok-5.2.1-py3-none-any.whl size=19792 sha256=af4bf252f266a8de0eb625b77a31881b07701f1024caee4b1508ac360ee089c0\n",
            "  Stored in directory: /root/.cache/pip/wheels/5d/f2/70/526da675d32f17577ec47ac4c663084efe39d47c826b6c3bb1\n",
            "Successfully built pyngrok\n",
            "Installing collected packages: pyngrok\n",
            "Successfully installed pyngrok-5.2.1\n"
          ]
        }
      ],
      "source": [
        "!pip install pyngrok"
      ]
    },
    {
      "cell_type": "code",
      "execution_count": 27,
      "metadata": {
        "id": "mqMSWOrp60Ma"
      },
      "outputs": [],
      "source": [
        "from pyngrok import ngrok"
      ]
    },
    {
      "cell_type": "code",
      "execution_count": 28,
      "metadata": {
        "colab": {
          "base_uri": "https://localhost:8080/"
        },
        "id": "ab1Bo8d66tXy",
        "outputId": "e3a7c68b-cf2b-49b1-af17-18aff62fad7e"
      },
      "outputs": [
        {
          "output_type": "stream",
          "name": "stdout",
          "text": []
        }
      ],
      "source": [
        "ngrok.set_auth_token(\"2HWTWDFu58DTBgSJ1pw1pucq7zL_2SRvzVZsrmYkBwrcjh51U\")"
      ]
    },
    {
      "cell_type": "code",
      "execution_count": 29,
      "metadata": {
        "id": "j0eC4CZ46wbS"
      },
      "outputs": [],
      "source": [
        "from flask import Flask\n",
        "from flask_ngrok import run_with_ngrok"
      ]
    },
    {
      "cell_type": "code",
      "execution_count": 30,
      "metadata": {
        "id": "_zIyDK1G7DMa"
      },
      "outputs": [],
      "source": [
        "app=Flask(__name__)"
      ]
    },
    {
      "cell_type": "code",
      "execution_count": 31,
      "metadata": {
        "id": "GsyH6fAP7ZWy"
      },
      "outputs": [],
      "source": [
        "@app.route(\"/\")\n",
        "def home():\n",
        "  image_id=image_preprocess(\"/content/test/cats/cat_1.jpg\")\n",
        "  pred=model.predict(image_id)\n",
        "  pred_digits=np.argmax(pred,axis=1)\n",
        "  predict=str(pred_digits)\n",
        "  return predict"
      ]
    },
    {
      "cell_type": "code",
      "execution_count": 32,
      "metadata": {
        "colab": {
          "base_uri": "https://localhost:8080/"
        },
        "id": "oj253omJ7d4q",
        "outputId": "54de36a9-bff0-4c67-d943-7edf51bc09db"
      },
      "outputs": [
        {
          "output_type": "stream",
          "name": "stdout",
          "text": [
            " * Serving Flask app \"__main__\" (lazy loading)\n",
            " * Environment: production\n",
            "\u001b[31m   WARNING: This is a development server. Do not use it in a production deployment.\u001b[0m\n",
            "\u001b[2m   Use a production WSGI server instead.\u001b[0m\n",
            " * Debug mode: off\n"
          ]
        },
        {
          "output_type": "stream",
          "name": "stderr",
          "text": [
            "INFO:werkzeug: * Running on http://127.0.0.1:5000/ (Press CTRL+C to quit)\n"
          ]
        },
        {
          "output_type": "stream",
          "name": "stdout",
          "text": [
            " * Running on http://6a0c-35-204-64-176.ngrok.io\n",
            " * Traffic stats available on http://127.0.0.1:4040\n",
            "1/1 [==============================] - 0s 44ms/step\n"
          ]
        },
        {
          "output_type": "stream",
          "name": "stderr",
          "text": [
            "INFO:werkzeug:127.0.0.1 - - [20/Jan/2023 05:17:12] \"\u001b[37mGET / HTTP/1.1\u001b[0m\" 200 -\n",
            "INFO:werkzeug:127.0.0.1 - - [20/Jan/2023 05:17:12] \"\u001b[33mGET /favicon.ico HTTP/1.1\u001b[0m\" 404 -\n"
          ]
        }
      ],
      "source": [
        "run_with_ngrok(app)\n",
        "app.run()"
      ]
    }
  ],
  "metadata": {
    "accelerator": "GPU",
    "colab": {
      "provenance": [],
      "authorship_tag": "ABX9TyOUXAZqsltKlonpjhoTCnR0",
      "include_colab_link": true
    },
    "gpuClass": "standard",
    "kernelspec": {
      "display_name": "Python 3",
      "name": "python3"
    },
    "language_info": {
      "name": "python"
    }
  },
  "nbformat": 4,
  "nbformat_minor": 0
}